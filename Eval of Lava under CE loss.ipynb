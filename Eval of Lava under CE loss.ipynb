{
 "cells": [
  {
   "cell_type": "code",
   "execution_count": 1,
   "id": "2a22dd70",
   "metadata": {},
   "outputs": [
    {
     "name": "stderr",
     "output_type": "stream",
     "text": [
      "Some weights of BartForQuestionAnswering were not initialized from the model checkpoint at facebook/bart-base and are newly initialized: ['qa_outputs.weight', 'qa_outputs.bias']\n",
      "You should probably TRAIN this model on a down-stream task to be able to use it for predictions and inference.\n",
      "You passed along `num_labels=3` with an incompatible id to label map: {0: 'LABEL_0', 1: 'LABEL_1'}. The number of labels wil be overwritten to 2.\n",
      "Found cached dataset gigaword (/home/ruihan/.cache/huggingface/datasets/gigaword/default/1.2.0/ea83a8b819190acac5f2dae011fad51dccf269a0604ec5dd24795b64efb424b6)\n"
     ]
    },
    {
     "data": {
      "application/vnd.jupyter.widget-view+json": {
       "model_id": "0ae0bca2bdf94f78b8f94fecde046ad3",
       "version_major": 2,
       "version_minor": 0
      },
      "text/plain": [
       "  0%|          | 0/3 [00:00<?, ?it/s]"
      ]
     },
     "metadata": {},
     "output_type": "display_data"
    },
    {
     "name": "stderr",
     "output_type": "stream",
     "text": [
      "Loading cached processed dataset at /home/ruihan/.cache/huggingface/datasets/gigaword/default/1.2.0/ea83a8b819190acac5f2dae011fad51dccf269a0604ec5dd24795b64efb424b6/cache-6816d5b30b6eeb9a.arrow\n",
      "Loading cached processed dataset at /home/ruihan/.cache/huggingface/datasets/gigaword/default/1.2.0/ea83a8b819190acac5f2dae011fad51dccf269a0604ec5dd24795b64efb424b6/cache-6aeaeef7bff602c5.arrow\n",
      "Loading cached processed dataset at /home/ruihan/.cache/huggingface/datasets/gigaword/default/1.2.0/ea83a8b819190acac5f2dae011fad51dccf269a0604ec5dd24795b64efb424b6/cache-29041409e3286f61.arrow\n"
     ]
    },
    {
     "name": "stdout",
     "output_type": "stream",
     "text": [
      "Number of gigaword training examples: 3803957\n",
      "Number of gigaword validation examples: 189651\n",
      "Number of gigaword testing examples: 1951\n",
      "DatasetDict({\n",
      "    train: Dataset({\n",
      "        features: ['input_ids', 'attention_mask', 'labels', 'input_texts', 'label_texts'],\n",
      "        num_rows: 3803957\n",
      "    })\n",
      "    validation: Dataset({\n",
      "        features: ['input_ids', 'attention_mask', 'labels', 'input_texts', 'label_texts'],\n",
      "        num_rows: 189651\n",
      "    })\n",
      "    test: Dataset({\n",
      "        features: ['input_ids', 'attention_mask', 'labels', 'input_texts', 'label_texts'],\n",
      "        num_rows: 1951\n",
      "    })\n",
      "})\n"
     ]
    }
   ],
   "source": [
    "from transformers import AutoModelForMaskedLM, TrainingArguments, Trainer, AutoTokenizer\n",
    "import torch\n",
    "\n",
    "from lava import LavaModel\n",
    "model = LavaModel.from_lava_pretrained('roberta-base', 'facebook/bart-base')\n",
    "\n",
    "from utils.datasets_config import get_dataset\n",
    "\n",
    "dset = get_dataset('gigaword', 'facebook/bart-base')\n",
    "print(dset)\n",
    "\n",
    "tokenizer = AutoTokenizer.from_pretrained('facebook/bart-base')\n",
    "\n",
    "\n"
   ]
  },
  {
   "cell_type": "code",
   "execution_count": 2,
   "id": "b2a5292d",
   "metadata": {},
   "outputs": [],
   "source": [
    "training_args = TrainingArguments(\n",
    "    # evaluation_strategy = \"steps\",\n",
    "    output_dir= 'lava-ce',\n",
    "    overwrite_output_dir=True,\n",
    "    num_train_epochs=1,\n",
    "    max_steps = 700_000,\n",
    "    per_device_train_batch_size=4,\n",
    "    save_steps=5_000,\n",
    "    save_total_limit=20,\n",
    "    prediction_loss_only=True,\n",
    "    dataloader_num_workers=4,\n",
    "    # learning_rate=3e-4,\n",
    "    # logging_steps = 5,\n",
    "    # eval_steps = 5,\n",
    "    # metric_for_best_model = 'f1',\n",
    "    # load_best_model_at_end=True,\n",
    ")\n"
   ]
  },
  {
   "cell_type": "code",
   "execution_count": 3,
   "id": "105e4f3c",
   "metadata": {},
   "outputs": [],
   "source": [
    "def collate(batch):\n",
    "    batch = ({k: torch.nn.utils.rnn.pad_sequence([dic[k] for dic in batch], batch_first=True, padding_value=1) for k in batch[0]})\n",
    "    batch['input_ids'][batch['input_ids'] == 2] = 0\n",
    "    batch['attention_mask'] = (batch['input_ids'] != 1).long()\n",
    "    batch['labels'][batch['labels']==1] = -100\n",
    "#     batch['labels'] = torch.nn.functional.pad(batch['labels'], (0, batch['input_ids'].shape[1] - batch['labels'].shape[1], 0, 0), 'constant', 1)\n",
    "    return batch"
   ]
  },
  {
   "cell_type": "code",
   "execution_count": 4,
   "id": "cc31fb1c",
   "metadata": {},
   "outputs": [
    {
     "name": "stderr",
     "output_type": "stream",
     "text": [
      "Loading cached shuffled indices for dataset at /home/ruihan/.cache/huggingface/datasets/gigaword/default/1.2.0/ea83a8b819190acac5f2dae011fad51dccf269a0604ec5dd24795b64efb424b6/cache-aac49639e82619d5.arrow\n",
      "max_steps is given, it will override any value given in num_train_epochs\n"
     ]
    }
   ],
   "source": [
    "trainer = Trainer(\n",
    "    model = model,\n",
    "    args = training_args,\n",
    "    train_dataset = dset['train'].shuffle(1234),\n",
    "    eval_dataset = dset['test'].shard(30, 1),\n",
    "    data_collator = collate,\n",
    "    # compute_metrics = lambda x: print(x),\n",
    "    # callbacks = [EarlyStoppingCallback(early_stopping_patience=7)],\n",
    ")\n"
   ]
  },
  {
   "cell_type": "code",
   "execution_count": 5,
   "id": "14d2856a",
   "metadata": {},
   "outputs": [
    {
     "name": "stderr",
     "output_type": "stream",
     "text": [
      "Loading model from lava-ce/checkpoint-700000.\n"
     ]
    }
   ],
   "source": [
    "trainer._load_from_checkpoint('lava-ce/checkpoint-700000')"
   ]
  },
  {
   "cell_type": "code",
   "execution_count": 6,
   "id": "5cb5f805",
   "metadata": {},
   "outputs": [
    {
     "name": "stderr",
     "output_type": "stream",
     "text": [
      "The following columns in the evaluation set don't have a corresponding argument in `LavaModel.forward` and have been ignored: label_texts, input_texts. If label_texts, input_texts are not expected by `LavaModel.forward`,  you can safely ignore this message.\n",
      "***** Running Evaluation *****\n",
      "  Num examples = 65\n",
      "  Batch size = 8\n"
     ]
    },
    {
     "data": {
      "text/html": [
       "\n",
       "    <div>\n",
       "      \n",
       "      <progress value='9' max='9' style='width:300px; height:20px; vertical-align: middle;'></progress>\n",
       "      [9/9 00:00]\n",
       "    </div>\n",
       "    "
      ],
      "text/plain": [
       "<IPython.core.display.HTML object>"
      ]
     },
     "metadata": {},
     "output_type": "display_data"
    },
    {
     "data": {
      "text/plain": [
       "{'eval_loss': 1.0386759042739868,\n",
       " 'eval_runtime': 1.1646,\n",
       " 'eval_samples_per_second': 55.814,\n",
       " 'eval_steps_per_second': 7.728}"
      ]
     },
     "execution_count": 6,
     "metadata": {},
     "output_type": "execute_result"
    }
   ],
   "source": [
    "trainer.evaluate()"
   ]
  },
  {
   "cell_type": "code",
   "execution_count": 17,
   "id": "cb9322d4",
   "metadata": {},
   "outputs": [],
   "source": [
    "d = next(iter(dset['test'].shard(300, 1).shuffle()))\n",
    "decoder_input_ids = (d['labels'] == 1).long()"
   ]
  },
  {
   "cell_type": "code",
   "execution_count": 18,
   "id": "f727e02f",
   "metadata": {},
   "outputs": [],
   "source": [
    "o = model(\n",
    "    input_ids = d['input_ids'].cuda().unsqueeze(0),\n",
    "    attention_mask = d['attention_mask'].cuda().unsqueeze(0),\n",
    ")"
   ]
  },
  {
   "cell_type": "code",
   "execution_count": 19,
   "id": "d1252084",
   "metadata": {},
   "outputs": [
    {
     "data": {
      "text/plain": [
       "{'input_ids': tensor([    0,   627,   579,  1069,   784,  3153,   260,   168,    15, 18862,\n",
       "         46836,   585,     5,  6803,     9,   168,  1304,    19,  3169,  1683,\n",
       "            25,    10,   831,   637,   136, 19665,   718, 21244, 18253,    11,\n",
       "             5,  1926,     9,     5,   247,  1437,  1437,     2]),\n",
       " 'attention_mask': tensor([1, 1, 1, 1, 1, 1, 1, 1, 1, 1, 1, 1, 1, 1, 1, 1, 1, 1, 1, 1, 1, 1, 1, 1,\n",
       "         1, 1, 1, 1, 1, 1, 1, 1, 1, 1, 1, 1, 1, 1]),\n",
       " 'labels': tensor([    0,    29,  1069,   784, 14391, 14454,  1304,    25,   997, 27196,\n",
       "          1626,     2])}"
      ]
     },
     "execution_count": 19,
     "metadata": {},
     "output_type": "execute_result"
    }
   ],
   "source": [
    "d"
   ]
  },
  {
   "cell_type": "code",
   "execution_count": 20,
   "id": "f296c16c",
   "metadata": {},
   "outputs": [
    {
     "data": {
      "text/plain": [
       "tensor([[    0,   627,   579,  1069,   784,  3153,   260,   168,    15, 18862,\n",
       "         46836,   585,     5,  6803,     9,   168,  1304,    19,  3169,  1683,\n",
       "            25,    10,   831,   637,   136, 19665,   718, 21244, 18253,    11,\n",
       "             5,  1926,     9,     5,   247,  1437,  1437,     0,     0,     0,\n",
       "             0,     0,    11,     9,  1304,     2]], device='cuda:0')"
      ]
     },
     "execution_count": 20,
     "metadata": {},
     "output_type": "execute_result"
    }
   ],
   "source": [
    "o.logits.argmax(2)"
   ]
  },
  {
   "cell_type": "code",
   "execution_count": 21,
   "id": "506f2dfa",
   "metadata": {},
   "outputs": [
    {
     "data": {
      "text/plain": [
       "'<s>the sri lankan government on wednesday announced the closure of government schools with immediate effect as a military campaign against tamil separatists escalated in the north of the country  <s><s><s><s><s> in of schools</s>'"
      ]
     },
     "execution_count": 21,
     "metadata": {},
     "output_type": "execute_result"
    }
   ],
   "source": [
    "tokenizer.decode(o.logits.argmax(2).tolist()[0], skip_special_tokens=False)\n"
   ]
  },
  {
   "cell_type": "code",
   "execution_count": 22,
   "id": "d01fd64d",
   "metadata": {},
   "outputs": [
    {
     "name": "stdout",
     "output_type": "stream",
     "text": [
      "the sri lankan government on wednesday announced the closure of government schools with immediate effect as a military campaign against tamil separatists escalated in the north of the country  \n",
      "\n",
      "sri lanka closes schools as war escalates\n"
     ]
    }
   ],
   "source": [
    "print(tokenizer.decode(d['input_ids'], skip_special_tokens=True))\n",
    "print()\n",
    "print(tokenizer.decode(d['labels'], skip_special_tokens=True))"
   ]
  },
  {
   "cell_type": "code",
   "execution_count": 23,
   "id": "5a526625",
   "metadata": {},
   "outputs": [
    {
     "data": {
      "text/plain": [
       "tensor([[-6.2586, -6.2586, -6.2586, -6.2585, -4.2327, -3.7682, -2.1155, -0.3451,\n",
       "          1.6599,  3.0890,  3.7387,  4.2100,  4.8997,  5.2446,  4.9608,  3.8474,\n",
       "          3.6635,  3.7829,  3.5679,  3.1241,  2.4736,  1.6223,  0.8032,  0.1033,\n",
       "         -0.3580, -0.6048, -0.6740, -0.5675, -0.3300, -0.0261,  0.3368,  0.7541,\n",
       "          1.1923,  1.5889,  1.8936,  2.1313,  2.3525,  2.5722]],\n",
       "       device='cuda:0', grad_fn=<CloneBackward0>)"
      ]
     },
     "execution_count": 23,
     "metadata": {},
     "output_type": "execute_result"
    }
   ],
   "source": [
    "scores = model.decoder(input_ids = d['input_ids'].cuda().unsqueeze(0), decoder_input_ids = 50264 * torch.ones_like(d['input_ids']).cuda().unsqueeze(0)).end_logits\n",
    "scores"
   ]
  },
  {
   "cell_type": "code",
   "execution_count": 24,
   "id": "1633c6c3",
   "metadata": {},
   "outputs": [
    {
     "data": {
      "text/plain": [
       "[<matplotlib.lines.Line2D at 0x7f191dbaf9d0>]"
      ]
     },
     "execution_count": 24,
     "metadata": {},
     "output_type": "execute_result"
    },
    {
     "data": {
      "image/png": "[encoded data removed]",
      "text/plain": [
       "<Figure size 432x288 with 1 Axes>"
      ]
     },
     "metadata": {
      "needs_background": "light"
     },
     "output_type": "display_data"
    }
   ],
   "source": [
    "import matplotlib.pyplot as plt\n",
    "import numpy as np\n",
    "\n",
    "plt.plot(scores.tolist()[0])"
   ]
  },
  {
   "cell_type": "code",
   "execution_count": 25,
   "id": "aff89b60",
   "metadata": {},
   "outputs": [
    {
     "name": "stdout",
     "output_type": "stream",
     "text": [
      "The model has 264,119,385 trainable parameters\n"
     ]
    }
   ],
   "source": [
    "def count_parameters(model):\n",
    "    return sum(p.numel() for p in model.parameters() if p.requires_grad)\n",
    "\n",
    "print(f'The model has {count_parameters(model):,} trainable parameters')"
   ]
  },
  {
   "cell_type": "code",
   "execution_count": 26,
   "id": "549ca806",
   "metadata": {},
   "outputs": [
    {
     "data": {
      "text/plain": [
       "tensor([[-6.2586, -6.2586, -6.2586, -6.2585, -4.2327, -3.7682, -2.1155, -0.3451,\n",
       "          1.6599,  3.0890,  3.7387,  4.2100,  4.8997,  5.2446,  4.9608,  3.8474,\n",
       "          3.6635,  3.7829,  3.5679,  3.1241,  2.4736,  1.6223,  0.8032,  0.1033,\n",
       "         -0.3580, -0.6048, -0.6740, -0.5675, -0.3300, -0.0261,  0.3368,  0.7541,\n",
       "          1.1923,  1.5889,  1.8936,  2.1313,  2.3525,  2.5722]],\n",
       "       device='cuda:0', grad_fn=<CloneBackward0>)"
      ]
     },
     "execution_count": 26,
     "metadata": {},
     "output_type": "execute_result"
    }
   ],
   "source": [
    "model.decoder(input_ids = d['input_ids'].cuda().unsqueeze(0), decoder_input_ids = 50264 * torch.ones_like(d['input_ids']).cuda().unsqueeze(0)).end_logits"
   ]
  },
  {
   "cell_type": "code",
   "execution_count": null,
   "id": "65f5e28a",
   "metadata": {},
   "outputs": [],
   "source": []
  }
 ],
 "metadata": {
  "kernelspec": {
   "display_name": "Python 3 (ipykernel)",
   "language": "python",
   "name": "python3"
  },
  "language_info": {
   "codemirror_mode": {
    "name": "ipython",
    "version": 3
   },
   "file_extension": ".py",
   "mimetype": "text/x-python",
   "name": "python",
   "nbconvert_exporter": "python",
   "pygments_lexer": "ipython3",
   "version": "3.9.12"
  }
 },
 "nbformat": 4,
 "nbformat_minor": 5
}
