{
 "cells": [
  {
   "cell_type": "code",
   "execution_count": 1,
   "id": "2a22dd70",
   "metadata": {},
   "outputs": [
    {
     "name": "stderr",
     "output_type": "stream",
     "text": [
      "Some weights of BartForQuestionAnswering were not initialized from the model checkpoint at facebook/bart-base and are newly initialized: ['qa_outputs.bias', 'qa_outputs.weight']\n",
      "You should probably TRAIN this model on a down-stream task to be able to use it for predictions and inference.\n",
      "You passed along `num_labels=3` with an incompatible id to label map: {0: 'LABEL_0', 1: 'LABEL_1'}. The number of labels wil be overwritten to 2.\n",
      "Found cached dataset gigaword (/home/ruihan/.cache/huggingface/datasets/gigaword/default/1.2.0/ea83a8b819190acac5f2dae011fad51dccf269a0604ec5dd24795b64efb424b6)\n"
     ]
    },
    {
     "data": {
      "application/vnd.jupyter.widget-view+json": {
       "model_id": "ec2af9130e414cd0aaddcbb8af5d8fea",
       "version_major": 2,
       "version_minor": 0
      },
      "text/plain": [
       "  0%|          | 0/3 [00:00<?, ?it/s]"
      ]
     },
     "metadata": {},
     "output_type": "display_data"
    },
    {
     "name": "stderr",
     "output_type": "stream",
     "text": [
      "Loading cached processed dataset at /home/ruihan/.cache/huggingface/datasets/gigaword/default/1.2.0/ea83a8b819190acac5f2dae011fad51dccf269a0604ec5dd24795b64efb424b6/cache-ec2f04cbc5a64a59.arrow\n",
      "Loading cached processed dataset at /home/ruihan/.cache/huggingface/datasets/gigaword/default/1.2.0/ea83a8b819190acac5f2dae011fad51dccf269a0604ec5dd24795b64efb424b6/cache-f10e57b03c68e54b.arrow\n",
      "Loading cached processed dataset at /home/ruihan/.cache/huggingface/datasets/gigaword/default/1.2.0/ea83a8b819190acac5f2dae011fad51dccf269a0604ec5dd24795b64efb424b6/cache-b8e4fbcfe3300933.arrow\n"
     ]
    },
    {
     "name": "stdout",
     "output_type": "stream",
     "text": [
      "Number of gigaword training examples: 3803957\n",
      "Number of gigaword validation examples: 189651\n",
      "Number of gigaword testing examples: 1951\n",
      "DatasetDict({\n",
      "    train: Dataset({\n",
      "        features: ['input_ids', 'attention_mask', 'labels', 'input_texts', 'label_texts'],\n",
      "        num_rows: 3803957\n",
      "    })\n",
      "    validation: Dataset({\n",
      "        features: ['input_ids', 'attention_mask', 'labels', 'input_texts', 'label_texts'],\n",
      "        num_rows: 189651\n",
      "    })\n",
      "    test: Dataset({\n",
      "        features: ['input_ids', 'attention_mask', 'labels', 'input_texts', 'label_texts'],\n",
      "        num_rows: 1951\n",
      "    })\n",
      "})\n"
     ]
    }
   ],
   "source": [
    "from transformers import AutoModelForMaskedLM, TrainingArguments, Trainer, AutoTokenizer\n",
    "import torch\n",
    "\n",
    "from lava import LavaModelSmall\n",
    "model = LavaModelSmall.from_lava_pretrained('roberta-base', 'facebook/bart-base')\n",
    "\n",
    "from utils.datasets_config import get_dataset\n",
    "\n",
    "dset = get_dataset('gigaword', 'facebook/bart-base')\n",
    "print(dset)\n",
    "\n",
    "tokenizer = AutoTokenizer.from_pretrained('facebook/bart-base')\n",
    "\n",
    "\n"
   ]
  },
  {
   "cell_type": "code",
   "execution_count": 2,
   "id": "b2a5292d",
   "metadata": {},
   "outputs": [],
   "source": [
    "training_args = TrainingArguments(\n",
    "    # evaluation_strategy = \"steps\",\n",
    "    output_dir= 'lava-ce',\n",
    "    overwrite_output_dir=True,\n",
    "    num_train_epochs=1,\n",
    "    max_steps = 700_000,\n",
    "    per_device_train_batch_size=4,\n",
    "    save_steps=5_000,\n",
    "    save_total_limit=20,\n",
    "    prediction_loss_only=True,\n",
    "    dataloader_num_workers=4,\n",
    "    # learning_rate=3e-4,\n",
    "    # logging_steps = 5,\n",
    "    # eval_steps = 5,\n",
    "    # metric_for_best_model = 'f1',\n",
    "    # load_best_model_at_end=True,\n",
    ")\n"
   ]
  },
  {
   "cell_type": "code",
   "execution_count": 3,
   "id": "6146fdb9",
   "metadata": {},
   "outputs": [
    {
     "data": {
      "text/plain": [
       "'</s>'"
      ]
     },
     "execution_count": 3,
     "metadata": {},
     "output_type": "execute_result"
    }
   ],
   "source": [
    "tokenizer.convert_ids_to_tokens(2\n",
    "                    )"
   ]
  },
  {
   "cell_type": "code",
   "execution_count": 4,
   "id": "105e4f3c",
   "metadata": {},
   "outputs": [],
   "source": [
    "def collate(batch):\n",
    "    batch = ({k: torch.nn.utils.rnn.pad_sequence([dic[k] for dic in batch], batch_first=True, padding_value=1) for k in batch[0]})\n",
    "    batch['input_ids'][batch['input_ids'] == 2] = 0\n",
    "    batch['attention_mask'] = (batch['input_ids'] != 1).long()\n",
    "    batch['labels'][batch['labels']==1] = -100\n",
    "#     batch['labels'] = torch.nn.functional.pad(batch['labels'], (0, batch['input_ids'].shape[1] - batch['labels'].shape[1], 0, 0), 'constant', 1)\n",
    "    return batch"
   ]
  },
  {
   "cell_type": "code",
   "execution_count": 5,
   "id": "cc31fb1c",
   "metadata": {},
   "outputs": [
    {
     "name": "stderr",
     "output_type": "stream",
     "text": [
      "Loading cached shuffled indices for dataset at /home/ruihan/.cache/huggingface/datasets/gigaword/default/1.2.0/ea83a8b819190acac5f2dae011fad51dccf269a0604ec5dd24795b64efb424b6/cache-b72e92e25248f7d5.arrow\n",
      "max_steps is given, it will override any value given in num_train_epochs\n"
     ]
    }
   ],
   "source": [
    "trainer = Trainer(\n",
    "    model = model,\n",
    "    args = training_args,\n",
    "    train_dataset = dset['train'].shuffle(1234),\n",
    "    eval_dataset = dset['test'].shard(30, 1),\n",
    "    data_collator = collate,\n",
    "    # compute_metrics = lambda x: print(x),\n",
    "    # callbacks = [EarlyStoppingCallback(early_stopping_patience=7)],\n",
    ")\n"
   ]
  },
  {
   "cell_type": "code",
   "execution_count": 6,
   "id": "14d2856a",
   "metadata": {},
   "outputs": [
    {
     "name": "stderr",
     "output_type": "stream",
     "text": [
      "Loading model from lava-ce/checkpoint-35000.\n"
     ]
    }
   ],
   "source": [
    "trainer._load_from_checkpoint('lava-ce/checkpoint-35000')"
   ]
  },
  {
   "cell_type": "code",
   "execution_count": 7,
   "id": "5cb5f805",
   "metadata": {},
   "outputs": [
    {
     "name": "stderr",
     "output_type": "stream",
     "text": [
      "The following columns in the evaluation set don't have a corresponding argument in `LavaModelSmall.forward` and have been ignored: input_texts, label_texts. If input_texts, label_texts are not expected by `LavaModelSmall.forward`,  you can safely ignore this message.\n",
      "***** Running Evaluation *****\n",
      "  Num examples = 65\n",
      "  Batch size = 8\n"
     ]
    },
    {
     "data": {
      "text/html": [
       "\n",
       "    <div>\n",
       "      \n",
       "      <progress value='9' max='9' style='width:300px; height:20px; vertical-align: middle;'></progress>\n",
       "      [9/9 00:00]\n",
       "    </div>\n",
       "    "
      ],
      "text/plain": [
       "<IPython.core.display.HTML object>"
      ]
     },
     "metadata": {},
     "output_type": "display_data"
    },
    {
     "data": {
      "text/plain": [
       "{'eval_loss': 3.8911497592926025,\n",
       " 'eval_runtime': 1.2784,\n",
       " 'eval_samples_per_second': 50.844,\n",
       " 'eval_steps_per_second': 7.04}"
      ]
     },
     "execution_count": 7,
     "metadata": {},
     "output_type": "execute_result"
    }
   ],
   "source": [
    "trainer.evaluate()"
   ]
  },
  {
   "cell_type": "code",
   "execution_count": 8,
   "id": "cb9322d4",
   "metadata": {},
   "outputs": [
    {
     "name": "stderr",
     "output_type": "stream",
     "text": [
      "Loading cached shuffled indices for dataset at /home/ruihan/.cache/huggingface/datasets/gigaword/default/1.2.0/ea83a8b819190acac5f2dae011fad51dccf269a0604ec5dd24795b64efb424b6/cache-92e797154ba25e06.arrow\n"
     ]
    }
   ],
   "source": [
    "d = next(iter(dset['train'].shard(300, 1).shuffle()))\n",
    "decoder_input_ids = (d['labels'] == 1).long()"
   ]
  },
  {
   "cell_type": "code",
   "execution_count": 9,
   "id": "f727e02f",
   "metadata": {},
   "outputs": [],
   "source": [
    "o = model(\n",
    "    input_ids = d['input_ids'].cuda().unsqueeze(0),\n",
    "    attention_mask = d['attention_mask'].cuda().unsqueeze(0),\n",
    ")"
   ]
  },
  {
   "cell_type": "code",
   "execution_count": 10,
   "id": "d1252084",
   "metadata": {},
   "outputs": [
    {
     "data": {
      "text/plain": [
       "{'input_ids': tensor([    0,   397, 17419, 10409,    34,  4768,   690,    14,   169,   858,\n",
       "          4533,  6071,    40,    28,  1088,    11,     5, 10408, 16705,  2937,\n",
       "          2931,  1437,  1437,   511, 18898,  6116,    59,     5,  5955,  1437,\n",
       "           579,   499,    23,     5,   950,  1437,  1437,     2]),\n",
       " 'attention_mask': tensor([1, 1, 1, 1, 1, 1, 1, 1, 1, 1, 1, 1, 1, 1, 1, 1, 1, 1, 1, 1, 1, 1, 1, 1,\n",
       "         1, 1, 1, 1, 1, 1, 1, 1, 1, 1, 1, 1, 1, 1]),\n",
       " 'labels': tensor([    0, 33557,  9118,   708,     7,  1331,  4533,  6071,     2])}"
      ]
     },
     "execution_count": 10,
     "metadata": {},
     "output_type": "execute_result"
    }
   ],
   "source": [
    "d"
   ]
  },
  {
   "cell_type": "code",
   "execution_count": 11,
   "id": "f296c16c",
   "metadata": {},
   "outputs": [
    {
     "data": {
      "text/plain": [
       "tensor([[    7, 12196, 17419,   849,    34,    10,   849,  1437,  1437,  1437,\n",
       "          4533,     8,    40,    28,  1088,    11,     5,  1437,     9,  1437,\n",
       "          1437,  1437,  1437,  1437,     8,  1437,     9,     5,  1437,  1437,\n",
       "           579,  1437,    23,     5,   950,  1437,  1437,     2,     0]],\n",
       "       device='cuda:0')"
      ]
     },
     "execution_count": 11,
     "metadata": {},
     "output_type": "execute_result"
    }
   ],
   "source": [
    "o.logits.argmax(2)"
   ]
  },
  {
   "cell_type": "code",
   "execution_count": 12,
   "id": "506f2dfa",
   "metadata": {},
   "outputs": [
    {
     "data": {
      "text/plain": [
       "' towhatchester # has a #    ro and will be sold in the  of      and  of the   s  at the club  </s><s>'"
      ]
     },
     "execution_count": 12,
     "metadata": {},
     "output_type": "execute_result"
    }
   ],
   "source": [
    "tokenizer.decode(o.logits.argmax(2).tolist()[0], skip_special_tokens=False)\n"
   ]
  },
  {
   "cell_type": "code",
   "execution_count": 13,
   "id": "d01fd64d",
   "metadata": {},
   "outputs": [
    {
     "name": "stdout",
     "output_type": "stream",
     "text": [
      "manchester united has dismissed reports that wayne rooney will be sold in the january transfer window   following rampant speculation about the striker  s future at the club  \n",
      "\n",
      "united denies plans to sell rooney\n"
     ]
    }
   ],
   "source": [
    "print(tokenizer.decode(d['input_ids'], skip_special_tokens=True))\n",
    "print()\n",
    "print(tokenizer.decode(d['labels'], skip_special_tokens=True))"
   ]
  },
  {
   "cell_type": "code",
   "execution_count": 14,
   "id": "5a526625",
   "metadata": {},
   "outputs": [
    {
     "data": {
      "text/plain": [
       "tensor([[-0.0774, -1.8899, -1.8205, -0.8274, -0.5692, -0.6887, -1.3088, -1.3962,\n",
       "         -1.4535, -1.4825, -1.4891, -1.4532, -1.4254, -1.4702, -1.3869, -1.4234,\n",
       "         -1.3903, -1.3698, -1.4222, -1.3819, -1.4039, -1.2901, -1.2907, -1.2471,\n",
       "         -1.2690, -1.3178, -1.3961, -1.2551, -1.2722, -1.2860, -1.2770, -1.3191,\n",
       "         -1.2959, -1.2438, -1.2295, -1.2728, -1.3323, -1.3380]],\n",
       "       device='cuda:0', grad_fn=<CloneBackward0>)"
      ]
     },
     "execution_count": 14,
     "metadata": {},
     "output_type": "execute_result"
    }
   ],
   "source": [
    "scores = model.decoder(input_ids = d['input_ids'].cuda().unsqueeze(0), decoder_input_ids = 50264 * torch.ones_like(d['input_ids']).cuda().unsqueeze(0)).end_logits\n",
    "scores"
   ]
  },
  {
   "cell_type": "code",
   "execution_count": 15,
   "id": "1633c6c3",
   "metadata": {},
   "outputs": [
    {
     "data": {
      "text/plain": [
       "[<matplotlib.lines.Line2D at 0x7fe2af0099d0>]"
      ]
     },
     "execution_count": 15,
     "metadata": {},
     "output_type": "execute_result"
    },
    {
     "data": {
      "image/png": "[encoded data removed]",
      "text/plain": [
       "<Figure size 640x480 with 1 Axes>"
      ]
     },
     "metadata": {},
     "output_type": "display_data"
    }
   ],
   "source": [
    "import matplotlib.pyplot as plt\n",
    "import numpy as np\n",
    "\n",
    "plt.plot(scores.tolist()[0])"
   ]
  },
  {
   "cell_type": "code",
   "execution_count": 22,
   "id": "aff89b60",
   "metadata": {},
   "outputs": [
    {
     "name": "stdout",
     "output_type": "stream",
     "text": [
      "The model has 142,817,625 trainable parameters\n"
     ]
    }
   ],
   "source": [
    "def count_parameters(model):\n",
    "    return sum(p.numel() for p in model.parameters() if p.requires_grad)\n",
    "\n",
    "print(f'The model has {count_parameters(model):,} trainable parameters')"
   ]
  },
  {
   "cell_type": "code",
   "execution_count": 21,
   "id": "549ca806",
   "metadata": {},
   "outputs": [
    {
     "data": {
      "text/plain": [
       "tensor([[-0.0774, -1.8899, -1.8205, -0.8274, -0.5692, -0.6887, -1.3088, -1.3962,\n",
       "         -1.4535, -1.4825, -1.4891, -1.4532, -1.4254, -1.4702, -1.3869, -1.4234,\n",
       "         -1.3903, -1.3698, -1.4222, -1.3819, -1.4039, -1.2901, -1.2907, -1.2471,\n",
       "         -1.2690, -1.3178, -1.3961, -1.2551, -1.2722, -1.2860, -1.2770, -1.3191,\n",
       "         -1.2959, -1.2438, -1.2295, -1.2728, -1.3323, -1.3380]],\n",
       "       device='cuda:0', grad_fn=<CloneBackward0>)"
      ]
     },
     "execution_count": 21,
     "metadata": {},
     "output_type": "execute_result"
    }
   ],
   "source": [
    "model.decoder(input_ids = d['input_ids'].cuda().unsqueeze(0), decoder_input_ids = 50264 * torch.ones_like(d['input_ids']).cuda().unsqueeze(0)).end_logits"
   ]
  }
 ],
 "metadata": {
  "kernelspec": {
   "display_name": "Python 3 (ipykernel)",
   "language": "python",
   "name": "python3"
  },
  "language_info": {
   "codemirror_mode": {
    "name": "ipython",
    "version": 3
   },
   "file_extension": ".py",
   "mimetype": "text/x-python",
   "name": "python",
   "nbconvert_exporter": "python",
   "pygments_lexer": "ipython3",
   "version": "3.9.13"
  }
 },
 "nbformat": 4,
 "nbformat_minor": 5
}
