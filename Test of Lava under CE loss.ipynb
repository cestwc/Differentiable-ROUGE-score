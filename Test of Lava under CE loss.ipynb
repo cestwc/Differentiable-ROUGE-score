{
 "cells": [
  {
   "cell_type": "code",
   "execution_count": 1,
   "id": "2a22dd70",
   "metadata": {},
   "outputs": [
    {
     "name": "stderr",
     "output_type": "stream",
     "text": [
      "Some weights of BartForQuestionAnswering were not initialized from the model checkpoint at facebook/bart-base and are newly initialized: ['qa_outputs.bias', 'qa_outputs.weight']\n",
      "You should probably TRAIN this model on a down-stream task to be able to use it for predictions and inference.\n",
      "You passed along `num_labels=3` with an incompatible id to label map: {0: 'LABEL_0', 1: 'LABEL_1'}. The number of labels wil be overwritten to 2.\n",
      "Found cached dataset gigaword (/home/ruihan/.cache/huggingface/datasets/gigaword/default/1.2.0/ea83a8b819190acac5f2dae011fad51dccf269a0604ec5dd24795b64efb424b6)\n"
     ]
    },
    {
     "data": {
      "application/vnd.jupyter.widget-view+json": {
       "model_id": "50e86c535a454532933ab718fed4d061",
       "version_major": 2,
       "version_minor": 0
      },
      "text/plain": [
       "  0%|          | 0/3 [00:00<?, ?it/s]"
      ]
     },
     "metadata": {},
     "output_type": "display_data"
    },
    {
     "name": "stderr",
     "output_type": "stream",
     "text": [
      "Loading cached processed dataset at /home/ruihan/.cache/huggingface/datasets/gigaword/default/1.2.0/ea83a8b819190acac5f2dae011fad51dccf269a0604ec5dd24795b64efb424b6/cache-6816d5b30b6eeb9a.arrow\n",
      "Loading cached processed dataset at /home/ruihan/.cache/huggingface/datasets/gigaword/default/1.2.0/ea83a8b819190acac5f2dae011fad51dccf269a0604ec5dd24795b64efb424b6/cache-6aeaeef7bff602c5.arrow\n",
      "Loading cached processed dataset at /home/ruihan/.cache/huggingface/datasets/gigaword/default/1.2.0/ea83a8b819190acac5f2dae011fad51dccf269a0604ec5dd24795b64efb424b6/cache-29041409e3286f61.arrow\n"
     ]
    },
    {
     "name": "stdout",
     "output_type": "stream",
     "text": [
      "Number of gigaword training examples: 3803957\n",
      "Number of gigaword validation examples: 189651\n",
      "Number of gigaword testing examples: 1951\n",
      "DatasetDict({\n",
      "    train: Dataset({\n",
      "        features: ['input_ids', 'attention_mask', 'labels', 'input_texts', 'label_texts'],\n",
      "        num_rows: 3803957\n",
      "    })\n",
      "    validation: Dataset({\n",
      "        features: ['input_ids', 'attention_mask', 'labels', 'input_texts', 'label_texts'],\n",
      "        num_rows: 189651\n",
      "    })\n",
      "    test: Dataset({\n",
      "        features: ['input_ids', 'attention_mask', 'labels', 'input_texts', 'label_texts'],\n",
      "        num_rows: 1951\n",
      "    })\n",
      "})\n"
     ]
    }
   ],
   "source": [
    "from transformers import AutoModelForMaskedLM, TrainingArguments, Trainer, AutoTokenizer\n",
    "import torch\n",
    "\n",
    "from lava import LavaModel\n",
    "model = LavaModel.from_lava_pretrained('roberta-base', 'facebook/bart-base')\n",
    "\n",
    "from utils.datasets_config import get_dataset\n",
    "\n",
    "dset = get_dataset('gigaword', 'facebook/bart-base')\n",
    "print(dset)\n",
    "\n",
    "tokenizer = AutoTokenizer.from_pretrained('facebook/bart-base')\n",
    "\n",
    "\n"
   ]
  },
  {
   "cell_type": "code",
   "execution_count": 14,
   "id": "14d2856a",
   "metadata": {},
   "outputs": [],
   "source": [
    "ckpt = torch.load('/home/ruihan/Downloads/or/seq2seq-ngram/lava-ce/checkpoint-210000/pytorch_model.bin')"
   ]
  },
  {
   "cell_type": "code",
   "execution_count": 15,
   "id": "1d7b9e3d",
   "metadata": {},
   "outputs": [
    {
     "data": {
      "text/plain": [
       "<All keys matched successfully>"
      ]
     },
     "execution_count": 15,
     "metadata": {},
     "output_type": "execute_result"
    }
   ],
   "source": [
    "model.load_state_dict(ckpt)"
   ]
  },
  {
   "cell_type": "code",
   "execution_count": 16,
   "id": "cb9322d4",
   "metadata": {},
   "outputs": [
    {
     "name": "stderr",
     "output_type": "stream",
     "text": [
      "Loading cached shuffled indices for dataset at /home/ruihan/.cache/huggingface/datasets/gigaword/default/1.2.0/ea83a8b819190acac5f2dae011fad51dccf269a0604ec5dd24795b64efb424b6/cache-b3cb70f2e5b25a48.arrow\n"
     ]
    }
   ],
   "source": [
    "d = next(iter(dset['train'].shard(300, 1).shuffle(0)))\n",
    "decoder_input_ids = (d['labels'] == 1).long()\n",
    "\n"
   ]
  },
  {
   "cell_type": "code",
   "execution_count": 17,
   "id": "0623d933",
   "metadata": {},
   "outputs": [
    {
     "name": "stdout",
     "output_type": "stream",
     "text": [
      "tensor(95.)\n",
      "att tensor([[1., 1., 1., 1., 1., 1., 1., 1., 1., 1., 1., 1., 1., 1., 1., 1., 1., 1.,\n",
      "         1., 1., 1., 1., 1., 1., 1., 1., 1., 1., 1., 1., 1., 1., 1., 1., 1., 1.,\n",
      "         1., 1., 1., 1., 1., 1., 1., 1., 1., 1., 1., 1., 1., 1., 1., 1., 1., 1.,\n",
      "         1., 1., 1., 1., 1., 1., 1., 1., 1., 1., 1., 1., 1., 1., 1., 1., 1., 1.,\n",
      "         1., 1., 1., 1., 1., 1., 1., 1., 1., 1., 1., 1., 1., 1., 1., 1., 1., 1.,\n",
      "         1., 1., 1., 1., 1.]])\n",
      "end tensor([[ 0.0000,  0.0000,  0.0000,  0.0000,  0.0000,  0.0000,  0.0000,  0.0000,\n",
      "          0.0000,  0.0000,  0.0000,  0.0000,  0.0000,  0.0000,  0.0000,  0.0000,\n",
      "          0.0000,  0.0000,  0.0000,  0.0000,  0.0000,  0.0000,  0.0000,  0.0000,\n",
      "          0.0000,  0.0000,  0.0000,  0.0000,  0.0000,  0.0000,  0.0000,  0.0000,\n",
      "          0.0000,  0.0000,  0.0000,  0.0000,  0.0000,  0.0000,  0.0000,  0.0000,\n",
      "          0.0000,  0.0000,  0.0000,  0.0000,  0.0000,  0.0000,  0.0000,  0.0000,\n",
      "          0.0000,  0.0000,  0.0000,  0.0000,  0.0000,  0.0000,  0.0000,  0.0000,\n",
      "          0.0000,  0.0000,  0.0000,  0.0000,  0.0000,  0.0000,  0.0000,  0.0000,\n",
      "          0.0000,  0.0000,  0.0000,  0.0000,  0.0000,  0.0000,  0.0000,  0.0000,\n",
      "          0.0000,  0.0000,  0.0000,  0.0000,  0.0000,  0.0000,  0.0000,  0.0000,\n",
      "          0.0000,  0.0000,  0.0000,  0.0000, -1.6548, -1.6549, -1.3427, -1.1594,\n",
      "         -1.0200, -0.9159, -1.3774, -1.6324, -1.5144, -1.1511, -0.3252]],\n",
      "       grad_fn=<GatherBackward0>)\n"
     ]
    }
   ],
   "source": [
    "o = model(\n",
    "    input_ids = d['input_ids'].to(model.device).unsqueeze(0),\n",
    "    attention_mask = d['attention_mask'].to(model.device).unsqueeze(0),\n",
    "#     labels = d['labels'].to(model.device).unsqueeze(0),\n",
    ")"
   ]
  },
  {
   "cell_type": "code",
   "execution_count": 6,
   "id": "367ac8cb",
   "metadata": {},
   "outputs": [],
   "source": [
    "# d = tokenizer(\"in a city passionate about the environment and technology  commuters are usingonna smart phones to check in at a social networkingSCP to keep ater threatened by climate from checking out \", return_tensors = 'pt')\n",
    "\n",
    "# o = model(\n",
    "#     input_ids = d['input_ids'].to(model.device),\n",
    "#     attention_mask = d['attention_mask'].to(model.device),\n",
    "# )"
   ]
  },
  {
   "cell_type": "code",
   "execution_count": 7,
   "id": "d1252084",
   "metadata": {},
   "outputs": [
    {
     "data": {
      "text/plain": [
       "{'input_ids': tensor([50264,   611,  1097,   611,   879,  1437,  1437,  9489,  1855,  1243,\n",
       "          1437,  1437, 16874, 50264, 50264,  1437,   784, 20815,  1437,  3023,\n",
       "           179, 39176,  1437,   910, 20815,  1437,  1437,  1437, 50264, 50264,\n",
       "           849, 48134,  1855,  1243,  2604, 50264,  6485, 26879,  1437,   784,\n",
       "         20815,  1437,  2604,   530,  1437,   910, 20815,  1437,  1015,    16,\n",
       "          1768,     7,    28,   547,    15,   579, 47035, 50264, 24622,   611,\n",
       "           879, 50264,  1437,   812,     9,  1236,   718,   179,  2791,  1437,\n",
       "          1437,  9489, 22683,  1243,  1437,  1437,    41,   781,    26,  6664,\n",
       "         21746,  1437,  1437,     2]),\n",
       " 'attention_mask': tensor([1, 1, 1, 1, 1, 1, 1, 1, 1, 1, 1, 1, 1, 1, 1, 1, 1, 1, 1, 1, 1, 1, 1, 1,\n",
       "         1, 1, 1, 1, 1, 1, 1, 1, 1, 1, 1, 1, 1, 1, 1, 1, 1, 1, 1, 1, 1, 1, 1, 1,\n",
       "         1, 1, 1, 1, 1, 1, 1, 1, 1, 1, 1, 1, 1, 1, 1, 1, 1, 1, 1, 1, 1, 1, 1, 1,\n",
       "         1, 1, 1, 1, 1, 1, 1, 1, 1, 1, 1, 1]),\n",
       " 'labels': tensor([    0,   611,  1243,  1437,   579,  3087,   343,     7,   946,    78,\n",
       "           655,  2604,   530,  6485, 26879,  1015,     2])}"
      ]
     },
     "execution_count": 7,
     "metadata": {},
     "output_type": "execute_result"
    }
   ],
   "source": [
    "d"
   ]
  },
  {
   "cell_type": "code",
   "execution_count": 8,
   "id": "f296c16c",
   "metadata": {},
   "outputs": [
    {
     "data": {
      "text/plain": [
       "tensor([[    0,     2,    12,     6,     6,     6,     6,     2,     6,     6,\n",
       "             6,     6,     6,     6,     6,     6, 12254,  3907,     6,     6,\n",
       "             6,     6,     6,     6,     6,     2,     6,     6,     6,     6,\n",
       "          4798,     6,     6,     6,     6,     6,     6,     6, 12254, 12254,\n",
       "             6,     6,     6,     6,     6,     6,     6,     6,     6,     6,\n",
       "             6,     6,     6,     6,     6,    12,     6,     6,     6,     2,\n",
       "             6,     6,     6,     2,     2,     2,     2,     2,     6,     6,\n",
       "             6,     6,     2,     2,     2,     2,     2, 23595,    12,    12,\n",
       "             6,     6,     6,     2]])"
      ]
     },
     "execution_count": 8,
     "metadata": {},
     "output_type": "execute_result"
    }
   ],
   "source": [
    "o.logits.argmax(2)"
   ]
  },
  {
   "cell_type": "code",
   "execution_count": 9,
   "id": "506f2dfa",
   "metadata": {},
   "outputs": [
    {
     "data": {
      "text/plain": [
       "'<s></s>-,,,,</s>,,,,,,,, unrest tree,,,,,,,</s>,,,, harm,,,,,,, unrest unrest,,,,,,,,,,,,,,,-,,,</s>,,,</s></s></s></s></s>,,,,</s></s></s></s></s> zip--,,,</s>'"
      ]
     },
     "execution_count": 9,
     "metadata": {},
     "output_type": "execute_result"
    }
   ],
   "source": [
    "tokenizer.decode(o.logits.argmax(2).tolist()[0], skip_special_tokens=False)\n"
   ]
  },
  {
   "cell_type": "code",
   "execution_count": 10,
   "id": "d01fd64d",
   "metadata": {},
   "outputs": [
    {
     "name": "stdout",
     "output_type": "stream",
     "text": [
      "changchun   northeast china   oct  lrb  xinliber  rrb    #### china UN mountain biking  lrb  UNK  rrb  race is scheduled to be held on saturday changchun  capital of jilin province   northeast Acquina   an official said friday  \n",
      "\n",
      "china  s ne city to hold first ever UNK mountain biking race\n"
     ]
    }
   ],
   "source": [
    "print(tokenizer.decode(d['input_ids'], skip_special_tokens=True))\n",
    "print()\n",
    "print(tokenizer.decode(d['labels'], skip_special_tokens=True))"
   ]
  },
  {
   "cell_type": "code",
   "execution_count": 11,
   "id": "5a526625",
   "metadata": {},
   "outputs": [
    {
     "data": {
      "text/plain": [
       "tensor([[0.1673, 0.1672, 0.7139, 0.5691, 0.4119, 0.1521, 0.1553, 0.1949, 0.2377,\n",
       "         0.2538, 0.2492, 0.2406, 0.2381, 0.2470, 0.2698, 0.2774, 0.2791, 0.2881,\n",
       "         0.3025, 0.3293, 0.3789, 0.4656, 0.5682, 0.6254, 0.6558, 0.6629, 0.6533,\n",
       "         0.6381, 0.6228, 0.6016, 0.5859, 0.5900, 0.5987, 0.6136, 0.6200, 0.6034,\n",
       "         0.5813, 0.5532, 0.5312, 0.5140, 0.5292, 0.5228, 0.5069, 0.5148, 0.5045,\n",
       "         0.4818, 0.4693, 0.4377, 0.4172, 0.4168, 0.4365, 0.4459, 0.4558, 0.4700,\n",
       "         0.4640, 0.4683, 0.4855, 0.5034, 0.5008, 0.4892, 0.5072, 0.5287, 0.5530,\n",
       "         0.5594, 0.5643, 0.5640, 0.5630, 0.5597, 0.5482, 0.5451, 0.5301, 0.5286,\n",
       "         0.5321, 0.5331, 0.5366, 0.5267, 0.5226, 0.5254, 0.5134, 0.5022, 0.4895,\n",
       "         0.4948, 0.4858, 0.4888]], grad_fn=<CloneBackward0>)"
      ]
     },
     "execution_count": 11,
     "metadata": {},
     "output_type": "execute_result"
    }
   ],
   "source": [
    "scores = model.decoder(input_ids = d['input_ids'].to(model.device).unsqueeze(0), decoder_input_ids = 50264 * torch.ones_like(d['input_ids']).to(model.device).unsqueeze(0)).end_logits\n",
    "scores"
   ]
  },
  {
   "cell_type": "code",
   "execution_count": 12,
   "id": "aff89b60",
   "metadata": {},
   "outputs": [
    {
     "data": {
      "text/plain": [
       "[<matplotlib.lines.Line2D at 0x7f5d592b8370>]"
      ]
     },
     "execution_count": 12,
     "metadata": {},
     "output_type": "execute_result"
    },
    {
     "data": {
      "image/png": "[encoded data removed]",
      "text/plain": [
       "<Figure size 432x288 with 1 Axes>"
      ]
     },
     "metadata": {
      "needs_background": "light"
     },
     "output_type": "display_data"
    }
   ],
   "source": [
    "import matplotlib.pyplot as plt\n",
    "import numpy as np\n",
    "\n",
    "plt.plot(scores.tolist()[0])"
   ]
  },
  {
   "cell_type": "code",
   "execution_count": 13,
   "id": "549ca806",
   "metadata": {},
   "outputs": [
    {
     "data": {
      "text/plain": [
       "tensor([[0.1673, 0.1672, 0.7139, 0.5691, 0.4119, 0.1521, 0.1553, 0.1949, 0.2377,\n",
       "         0.2538, 0.2492, 0.2406, 0.2381, 0.2470, 0.2698, 0.2774, 0.2791]],\n",
       "       grad_fn=<CloneBackward0>)"
      ]
     },
     "execution_count": 13,
     "metadata": {},
     "output_type": "execute_result"
    }
   ],
   "source": [
    "model.decoder(input_ids = d['input_ids'].to(model.device).unsqueeze(0), decoder_input_ids = 50264 * torch.ones_like(d['labels']).to(model.device).unsqueeze(0)).end_logits"
   ]
  },
  {
   "cell_type": "code",
   "execution_count": null,
   "id": "a77da070",
   "metadata": {},
   "outputs": [],
   "source": []
  }
 ],
 "metadata": {
  "kernelspec": {
   "display_name": "Python 3 (ipykernel)",
   "language": "python",
   "name": "python3"
  },
  "language_info": {
   "codemirror_mode": {
    "name": "ipython",
    "version": 3
   },
   "file_extension": ".py",
   "mimetype": "text/x-python",
   "name": "python",
   "nbconvert_exporter": "python",
   "pygments_lexer": "ipython3",
   "version": "3.9.12"
  }
 },
 "nbformat": 4,
 "nbformat_minor": 5
}
