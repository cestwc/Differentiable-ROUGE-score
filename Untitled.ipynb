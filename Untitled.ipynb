{
 "cells": [
  {
   "cell_type": "code",
   "execution_count": 1,
   "id": "aafa8291",
   "metadata": {},
   "outputs": [],
   "source": [
    "import io\n",
    "import cv2\n",
    "import itertools\n",
    "import numpy as np\n",
    "import matplotlib.pyplot as plt\n",
    "import matplotlib"
   ]
  },
  {
   "cell_type": "code",
   "execution_count": 2,
   "id": "deb35fb4",
   "metadata": {},
   "outputs": [
    {
     "data": {
      "text/plain": [
       "GramGenerateLoss()"
      ]
     },
     "execution_count": 2,
     "metadata": {},
     "output_type": "execute_result"
    }
   ],
   "source": [
    "import gramgen\n",
    "import torch\n",
    "\n",
    "device = 'cuda' if torch.cuda.is_available() else 'cpu'\n",
    "g = gramgen.GramGenerateLoss(reduction = 'mean', ignore_index = 1).to(device)\n",
    "g.cuda()\n"
   ]
  },
  {
   "cell_type": "code",
   "execution_count": 11,
   "id": "ae4a2e03",
   "metadata": {},
   "outputs": [],
   "source": [
    "rs = gramgen.RougeScorer(['rouge1'])"
   ]
  },
  {
   "cell_type": "code",
   "execution_count": 12,
   "id": "b5115ef5",
   "metadata": {},
   "outputs": [],
   "source": [
    "torch.manual_seed(1234)\n",
    "x = torch.rand(2, 10, 17).to(device)\n",
    "x.requires_grad = True\n",
    "y = torch.randint(2, 10, (2, 17)).to(device)\n",
    "y[:, 8:] = 1"
   ]
  },
  {
   "cell_type": "code",
   "execution_count": 14,
   "id": "3a1e9325",
   "metadata": {},
   "outputs": [
    {
     "data": {
      "text/plain": [
       "{'rouge1': {'precision': tensor([[0.2500]], grad_fn=<DivBackward0>),\n",
       "  'recall': tensor([[0.2000]], grad_fn=<DivBackward0>),\n",
       "  'fmeasure': tensor([[0.2222]], grad_fn=<DivBackward0>)}}"
      ]
     },
     "execution_count": 14,
     "metadata": {},
     "output_type": "execute_result"
    }
   ],
   "source": [
    "rs.score(\"this is a pig\", \"I am not a pigg\")"
   ]
  },
  {
   "cell_type": "code",
   "execution_count": 17,
   "id": "101a1461",
   "metadata": {},
   "outputs": [
    {
     "ename": "RuntimeError",
     "evalue": "`Trainer` requires either a `model` or `model_init` argument",
     "output_type": "error",
     "traceback": [
      "\u001b[0;31m---------------------------------------------------------------------------\u001b[0m",
      "\u001b[0;31mRuntimeError\u001b[0m                              Traceback (most recent call last)",
      "\u001b[0;32m/tmp/ipykernel_777027/333042092.py\u001b[0m in \u001b[0;36m<module>\u001b[0;34m\u001b[0m\n\u001b[1;32m      1\u001b[0m \u001b[0;32mfrom\u001b[0m \u001b[0mgramgen\u001b[0m \u001b[0;32mimport\u001b[0m \u001b[0mGGTrainer\u001b[0m\u001b[0;34m\u001b[0m\u001b[0;34m\u001b[0m\u001b[0m\n\u001b[0;32m----> 2\u001b[0;31m \u001b[0mGGTrainer\u001b[0m\u001b[0;34m(\u001b[0m\u001b[0;34m)\u001b[0m\u001b[0;34m\u001b[0m\u001b[0;34m\u001b[0m\u001b[0m\n\u001b[0m",
      "\u001b[0;32m/mnt/rh/anaconda3/lib/python3.9/site-packages/transformers/trainer.py\u001b[0m in \u001b[0;36m__init__\u001b[0;34m(self, model, args, data_collator, train_dataset, eval_dataset, tokenizer, model_init, compute_metrics, callbacks, optimizers, preprocess_logits_for_metrics)\u001b[0m\n\u001b[1;32m    334\u001b[0m                 \u001b[0mmodel\u001b[0m \u001b[0;34m=\u001b[0m \u001b[0mself\u001b[0m\u001b[0;34m.\u001b[0m\u001b[0mcall_model_init\u001b[0m\u001b[0;34m(\u001b[0m\u001b[0;34m)\u001b[0m\u001b[0;34m\u001b[0m\u001b[0;34m\u001b[0m\u001b[0m\n\u001b[1;32m    335\u001b[0m             \u001b[0;32melse\u001b[0m\u001b[0;34m:\u001b[0m\u001b[0;34m\u001b[0m\u001b[0;34m\u001b[0m\u001b[0m\n\u001b[0;32m--> 336\u001b[0;31m                 \u001b[0;32mraise\u001b[0m \u001b[0mRuntimeError\u001b[0m\u001b[0;34m(\u001b[0m\u001b[0;34m\"`Trainer` requires either a `model` or `model_init` argument\"\u001b[0m\u001b[0;34m)\u001b[0m\u001b[0;34m\u001b[0m\u001b[0;34m\u001b[0m\u001b[0m\n\u001b[0m\u001b[1;32m    337\u001b[0m         \u001b[0;32melse\u001b[0m\u001b[0;34m:\u001b[0m\u001b[0;34m\u001b[0m\u001b[0;34m\u001b[0m\u001b[0m\n\u001b[1;32m    338\u001b[0m             \u001b[0;32mif\u001b[0m \u001b[0mmodel_init\u001b[0m \u001b[0;32mis\u001b[0m \u001b[0;32mnot\u001b[0m \u001b[0;32mNone\u001b[0m\u001b[0;34m:\u001b[0m\u001b[0;34m\u001b[0m\u001b[0;34m\u001b[0m\u001b[0m\n",
      "\u001b[0;31mRuntimeError\u001b[0m: `Trainer` requires either a `model` or `model_init` argument"
     ]
    }
   ],
   "source": [
    "from gramgen import GGTrainer\n",
    "GGTrainer()"
   ]
  },
  {
   "cell_type": "code",
   "execution_count": 4,
   "id": "33e6fc98",
   "metadata": {},
   "outputs": [],
   "source": [
    "lr = 10"
   ]
  },
  {
   "cell_type": "code",
   "execution_count": 5,
   "id": "f859c0d1",
   "metadata": {},
   "outputs": [
    {
     "name": "stdout",
     "output_type": "stream",
     "text": [
      "tensor([8, 3, 5, 6, 8, 2, 3, 3, 1, 1, 1, 1, 1, 1, 1, 1, 1], device='cuda:0')\n"
     ]
    }
   ],
   "source": [
    "print(y[0])"
   ]
  },
  {
   "cell_type": "code",
   "execution_count": 6,
   "id": "5afef84d",
   "metadata": {},
   "outputs": [
    {
     "name": "stdout",
     "output_type": "stream",
     "text": [
      "tensor([7, 7, 7, 8, 9, 4, 8, 4, 1, 1, 1, 1, 1, 1, 1, 1, 1, 1, 1, 1, 1, 1, 1, 1,\n",
      "        1, 1, 1, 1, 1, 1, 1, 1, 1, 1, 1, 1, 1, 1, 1, 1, 1, 1, 1, 1, 1, 1, 1, 1,\n",
      "        1, 1, 1, 1, 1, 1, 1, 1, 1, 1, 1, 1, 1, 1, 1, 1, 1, 1, 1, 1, 1, 1, 1, 1,\n",
      "        1, 1, 1, 1, 1, 1, 1, 1, 1, 1, 1, 1, 1, 1, 1, 1, 1, 1, 1, 1, 1, 1, 1, 1,\n",
      "        1, 1, 1, 1, 1, 1, 1, 1, 1, 1, 1, 1, 1, 1, 1, 1, 1, 1, 1, 1, 1, 1, 1, 1,\n",
      "        1, 1, 1, 1, 1, 1, 1, 1, 1, 1, 1, 1, 1, 1, 1, 1, 1, 1, 1, 1, 1, 1, 1, 1,\n",
      "        1, 1, 1, 1, 1, 1, 1, 1, 1, 1, 1, 1, 1, 1, 1, 1, 1, 1, 1, 1, 1, 1, 1, 1,\n",
      "        1, 1, 1, 1, 1, 1, 1, 1, 1])\n"
     ]
    }
   ],
   "source": [
    "torch.manual_seed(1234)\n",
    "x = torch.rand(2, 10, 177)\n",
    "x.requires_grad = True\n",
    "y = torch.randint(2, 10, (2, 177))\n",
    "y[:, 8:] = 1\n",
    "\n",
    "print(y[0])"
   ]
  },
  {
   "cell_type": "code",
   "execution_count": 7,
   "id": "cca88265",
   "metadata": {},
   "outputs": [
    {
     "name": "stdout",
     "output_type": "stream",
     "text": [
      " 16.502\n",
      "  1.610\n",
      "  1.524\n",
      "  1.469\n",
      "  1.430\n",
      "  1.400\n",
      "  1.376\n",
      "  1.356\n",
      "  1.339\n",
      "  1.323\n",
      "  1.310\n",
      "  1.297\n",
      "  1.286\n",
      "  1.275\n",
      "  1.265\n",
      "  1.255\n",
      "  1.246\n",
      "  1.238\n",
      "  1.229\n",
      "  1.221\n",
      "  1.213\n",
      "  1.206\n",
      "  1.198\n",
      "  1.191\n",
      "  1.184\n",
      "  1.176\n",
      "  1.170\n",
      "  1.163\n",
      "  1.156\n",
      "  1.149\n",
      "  1.143\n",
      "  1.136\n",
      "  1.130\n",
      "  1.124\n",
      "  1.117\n",
      "  1.111\n",
      "  1.105\n",
      "  1.099\n",
      "  1.093\n",
      "  3.078\n",
      "  2.132\n",
      "  1.152\n",
      "  2.121\n",
      "  1.151\n",
      "  1.135\n",
      "  1.122\n",
      "  1.112\n",
      "  1.102\n",
      "  1.094\n",
      "  1.086\n",
      "  1.078\n",
      "  1.071\n",
      "  1.064\n",
      "  1.058\n",
      "  1.051\n",
      "  1.045\n",
      "  1.039\n",
      "  1.998\n",
      "  1.056\n",
      "  1.045\n",
      "  1.037\n",
      "  1.029\n",
      "  2.020\n",
      "  1.045\n",
      "  1.033\n",
      "  1.024\n",
      "  1.016\n",
      "  1.009\n",
      "  1.002\n",
      "  0.996\n",
      "  0.990\n",
      "  0.984\n",
      "  0.979\n",
      "  0.973\n",
      "  0.968\n",
      "  0.962\n",
      "  0.957\n",
      "  0.952\n",
      "  0.947\n",
      "  0.942\n",
      "  0.937\n",
      "  0.932\n",
      "  0.927\n",
      "  0.923\n",
      "  0.918\n",
      "  0.913\n",
      "  0.909\n",
      "  0.904\n",
      "  0.899\n",
      "  0.895\n",
      "  0.891\n",
      "  0.886\n",
      "  0.882\n",
      "  0.877\n",
      "  0.873\n",
      "  0.869\n",
      "  0.864\n",
      "  0.860\n",
      "  0.856\n",
      "  0.852\n"
     ]
    }
   ],
   "source": [
    "for k in range(100):\n",
    "    out = g(x, y)\n",
    "    out.backward()\n",
    "    x - x.grad\n",
    "    x.data -= lr * x.grad.data\n",
    "    print(f\"{out.item():7.3f}\") \n",
    "    x.grad.zero_()\n"
   ]
  },
  {
   "cell_type": "code",
   "execution_count": 8,
   "id": "96544f3a",
   "metadata": {},
   "outputs": [
    {
     "data": {
      "text/plain": [
       "tensor([9, 8, 8, 1, 4, 1, 1, 1, 1, 4, 1, 1, 1, 1, 1, 1, 1, 1, 1, 7, 1, 1, 1, 1,\n",
       "        1, 7, 1, 1, 1, 1, 1, 1, 1, 1, 1, 1, 1, 1, 1, 7, 1, 1, 1, 1, 1, 1, 1, 1,\n",
       "        1, 1, 1, 1, 1, 1, 1, 1, 1, 1, 1, 1, 1, 1, 1, 1, 1, 1, 1, 1, 1, 1, 1, 1,\n",
       "        1, 1, 1, 1, 1, 1, 1, 1, 1, 1, 1, 1, 1, 1, 1, 1, 1, 1, 1, 1, 1, 1, 1, 1,\n",
       "        1, 1, 1, 1, 1, 1, 1, 1, 1, 1, 1, 1, 1, 1, 1, 1, 1, 1, 1, 1, 1, 1, 1, 1,\n",
       "        1, 1, 1, 1, 1, 1, 1, 1, 1, 1, 1, 1, 1, 1, 1, 1, 1, 1, 1, 1, 1, 1, 1, 1,\n",
       "        1, 1, 1, 1, 1, 1, 1, 1, 1, 1, 1, 1, 1, 1, 1, 1, 1, 1, 1, 1, 1, 1, 1, 1,\n",
       "        1, 1, 1, 1, 1, 4, 1, 1, 7])"
      ]
     },
     "execution_count": 8,
     "metadata": {},
     "output_type": "execute_result"
    }
   ],
   "source": [
    "x[0].argmax(0)"
   ]
  },
  {
   "cell_type": "code",
   "execution_count": 9,
   "id": "ccac02ed",
   "metadata": {},
   "outputs": [
    {
     "ename": "RuntimeError",
     "evalue": "No active exception to reraise",
     "output_type": "error",
     "traceback": [
      "\u001b[0;31m---------------------------------------------------------------------------\u001b[0m",
      "\u001b[0;31mRuntimeError\u001b[0m                              Traceback (most recent call last)",
      "\u001b[0;32m/tmp/ipykernel_775664/2235509928.py\u001b[0m in \u001b[0;36m<module>\u001b[0;34m\u001b[0m\n\u001b[0;32m----> 1\u001b[0;31m \u001b[0;32mraise\u001b[0m\u001b[0;34m\u001b[0m\u001b[0;34m\u001b[0m\u001b[0m\n\u001b[0m",
      "\u001b[0;31mRuntimeError\u001b[0m: No active exception to reraise"
     ]
    }
   ],
   "source": [
    "raise"
   ]
  },
  {
   "cell_type": "code",
   "execution_count": null,
   "id": "68578b5f",
   "metadata": {},
   "outputs": [],
   "source": [
    "for k in range(10):\n",
    "    out = g(x, y)\n",
    "    out.backward()\n",
    "    x - x.grad\n",
    "    x.data -= lr * x.grad.data\n",
    "    print(f\"{out.item():7.3f}\") \n",
    "\n",
    "    for i in range(17):\n",
    "        plt.subplot(1, 17, i+1)\n",
    "        plt.bar(range(10), x[0, :, i].detach().numpy())\n",
    "        plt.bar(range(10), x.grad[0, :, i].detach().numpy())\n",
    "        plt.title(x[0, :, i].argmax().item())\n",
    "    plt.show()\n",
    "    x.grad.zero_()\n"
   ]
  },
  {
   "cell_type": "code",
   "execution_count": null,
   "id": "e0e44cdb",
   "metadata": {},
   "outputs": [],
   "source": [
    "x.grad"
   ]
  },
  {
   "cell_type": "code",
   "execution_count": null,
   "id": "2f22339c",
   "metadata": {},
   "outputs": [],
   "source": [
    "plt.bar(x[0])"
   ]
  }
 ],
 "metadata": {
  "kernelspec": {
   "display_name": "Python 3 (ipykernel)",
   "language": "python",
   "name": "python3"
  },
  "language_info": {
   "codemirror_mode": {
    "name": "ipython",
    "version": 3
   },
   "file_extension": ".py",
   "mimetype": "text/x-python",
   "name": "python",
   "nbconvert_exporter": "python",
   "pygments_lexer": "ipython3",
   "version": "3.9.13"
  }
 },
 "nbformat": 4,
 "nbformat_minor": 5
}
